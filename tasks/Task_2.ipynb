{
 "cells": [
  {
   "cell_type": "markdown",
   "metadata": {},
   "source": [
    "# Задание 2.\n",
    "\n",
    "**NB. Все упражнения ниже нужно делать без использования циклов Python в явном (`while`, `for`) и неявном виде (list comprehension, `map`, `reduce` и пр)**\n",
    "\n",
    "Задания по манипуляциям с массивами чаще всего решаются в одно/два выражения. "
   ]
  },
  {
   "cell_type": "code",
   "execution_count": 19,
   "metadata": {},
   "outputs": [
    {
     "data": {
      "text/plain": [
       "array([[86, 18, 26, ..., 41, 87, 71],\n",
       "       [93, 32, 24, ..., 15, 79, 99],\n",
       "       [ 7, 66,  1, ..., 59, 63, 33],\n",
       "       ...,\n",
       "       [27, 12, 91, ..., 45, 41, 68],\n",
       "       [69, 44, 13, ..., 12,  8, 76],\n",
       "       [18, 83,  0, ..., 33, 13, 76]])"
      ]
     },
     "execution_count": 19,
     "metadata": {},
     "output_type": "execute_result"
    }
   ],
   "source": [
    "%matplotlib inline\n",
    "\n",
    "import numpy as np\n",
    "import matplotlib.pyplot as plt\n",
    "import seaborn as sns\n",
    "sns.set_theme()\n",
    "\n",
    "A = np.random.randint(0, 100, size=(200, 50))\n",
    "A"
   ]
  },
  {
   "cell_type": "markdown",
   "metadata": {},
   "source": [
    "# Задание 2.1 (2 балла)\n",
    "\n",
    "Сгенерируйте новый массив, в котором столбцы массива `A` переставлены в случайном порядке"
   ]
  },
  {
   "cell_type": "code",
   "execution_count": 20,
   "metadata": {},
   "outputs": [
    {
     "data": {
      "text/plain": [
       "array([[44, 22, 19, ..., 68, 87, 41],\n",
       "       [96, 10, 81, ..., 31, 79, 15],\n",
       "       [52,  0,  0, ..., 74, 63, 59],\n",
       "       ...,\n",
       "       [73, 85,  3, ..., 80, 41, 45],\n",
       "       [67, 26, 37, ..., 67,  8, 12],\n",
       "       [80, 61, 23, ..., 44, 13, 33]])"
      ]
     },
     "execution_count": 20,
     "metadata": {},
     "output_type": "execute_result"
    }
   ],
   "source": [
    "# 1. 确定列的数量\n",
    "# .shape 属性来获取数组 A 的形状，它返回一个元组，其中第一个元素是行数，第二个元素是列数。\n",
    "# Свойство .shape позволяет получить форму массива A. Оно возвращает кортеж, первый элемент которого - количество строк, а второй - количество столбцов.\n",
    "num = A.shape[1]\n",
    "\n",
    "# 2. 生成随机列顺序\n",
    "# 2. Генерировать случайный порядок столбцов\n",
    "random_order = np.random.permutation(num)\n",
    "\n",
    "# 3. 应用随机顺序\n",
    "# 3. Применение случайного порядка\n",
    "A_randomized = A[:, random_order]\n",
    "\n",
    "A_randomized"
   ]
  },
  {
   "cell_type": "markdown",
   "metadata": {},
   "source": [
    "# Задание 2.2 (5 баллов)\n",
    "\n",
    "Сгенерируйте новый массив, который содержит только те строки массива `A`, в которых: \n",
    "- сумма элементов по четным столбцам (индексы $0, 2, \\ldots$) больше среднего значения (по всему массиву) суммы элементов по нечетным столбцам (индексы $1, 3, \\ldots$) "
   ]
  },
  {
   "cell_type": "code",
   "execution_count": 21,
   "metadata": {},
   "outputs": [
    {
     "data": {
      "text/plain": [
       "array([[86, 18, 26, ..., 41, 87, 71],\n",
       "       [93, 32, 24, ..., 15, 79, 99],\n",
       "       [ 7, 66,  1, ..., 59, 63, 33],\n",
       "       ...,\n",
       "       [80, 86, 47, ..., 20, 32, 77],\n",
       "       [23, 35, 90, ..., 60,  2, 60],\n",
       "       [27, 12, 91, ..., 45, 41, 68]])"
      ]
     },
     "execution_count": 21,
     "metadata": {},
     "output_type": "execute_result"
    }
   ],
   "source": [
    "# 计算奇数列和偶数列的和\n",
    "# Вычислить сумму четных и нечетных серий\n",
    "sum_even_columns = A[:, 0::2].sum(axis=1)  # 偶数列（从0开始，步长为2）的和 Сумма четного ряда (начиная с 0 и с шагом 2)\n",
    "sum_odd_columns = A[:, 1::2].sum(axis=1)   # 奇数列（从1开始，步长为2）的和 Сумма нечетного ряда (начиная с 1 и с шагом 2)\n",
    "\n",
    "# 计算奇数列和的平均值\n",
    "# Вычислить среднее значение сумм нечетных столбцов\n",
    "average_sum_odd_columns = sum_odd_columns.mean()\n",
    "\n",
    "# 选择满足条件的行：偶数列的和大于奇数列的和的平均值\n",
    "# Выбираем строки, в которых выполняется условие: сумма четных столбцов больше среднего значения сумм нечетных столбцов.\n",
    "selected_rows = A[sum_even_columns > average_sum_odd_columns]\n",
    "selected_rows"
   ]
  },
  {
   "cell_type": "markdown",
   "metadata": {},
   "source": [
    "# Задача 2.3 (3 балла)\n",
    "\n",
    "Найдите индекс строки массива `A`, в которой разница между максимальным и минимальным элементом максимальна"
   ]
  },
  {
   "cell_type": "code",
   "execution_count": 22,
   "metadata": {},
   "outputs": [
    {
     "data": {
      "text/plain": [
       "1"
      ]
     },
     "execution_count": 22,
     "metadata": {},
     "output_type": "execute_result"
    }
   ],
   "source": [
    "# 计算每一行的最大值和最小值\n",
    "# Вычислить максимальное и минимальное значения для каждой строки\n",
    "max_per_row = A.max(axis=1)\n",
    "min_per_row = A.min(axis=1)\n",
    "\n",
    "# 计算每一行的最大值和最小值之差\n",
    "# Вычислить разность между максимальным и минимальным значениями для каждой строки\n",
    "difference = max_per_row - min_per_row\n",
    "\n",
    "# 找到最大差值的行索引\n",
    "# Найти индекс ряда с наибольшей разницей\n",
    "max_diff_index = np.argmax(difference)\n",
    "max_diff_index "
   ]
  },
  {
   "cell_type": "markdown",
   "metadata": {},
   "source": [
    "# Задание 2.4 (7 баллов)\n",
    "\n",
    "Сгенерируйте массив той же размерности, что и `A`, но в котором каждый элемент заменен на его порядковый номер (начиная с 1) в отсортированном по возрастанию массиве из элементов `A`\n",
    "\n",
    "Если `A` выглядит так:\n",
    "$$\n",
    "\\begin{pmatrix}\n",
    "12 & 14\\\\\n",
    "1 & 2\n",
    "\\end{pmatrix}\n",
    "$$\n",
    "то результат должен быть\n",
    "$$\n",
    "\\begin{pmatrix}\n",
    "3 & 4\\\\\n",
    "1 & 2\n",
    "\\end{pmatrix}\n",
    "$$\n",
    "\n",
    "*Tip: рассмотрите возможность неоднократного применения [argsort()](https://numpy.org/doc/stable/reference/generated/numpy.ndarray.argsort.html)*"
   ]
  },
  {
   "cell_type": "code",
   "execution_count": 23,
   "metadata": {},
   "outputs": [
    {
     "data": {
      "text/plain": [
       "array([[8727, 1901, 2777, ..., 4183, 8856, 7275],\n",
       "       [9442, 3280, 2503, ..., 1643, 8071, 9916],\n",
       "       [ 853, 6719,  196, ..., 6069, 6447, 3426],\n",
       "       ...,\n",
       "       [2807, 1265, 9166, ..., 4648, 4259, 6923],\n",
       "       [7048, 4505, 1451, ..., 1366,  934, 7729],\n",
       "       [1951, 8440,   54, ..., 3393, 1412, 7733]], dtype=int64)"
      ]
     },
     "execution_count": 23,
     "metadata": {},
     "output_type": "execute_result"
    }
   ],
   "source": [
    "# 将 A 展平为一维数组\n",
    "# Сплющивание A в одномерный массив\n",
    "flattened_A = A.flatten()\n",
    "\n",
    "# 使用 argsort() 获取排序后的索引\n",
    "# Использование функции argsort() для получения отсортированных индексов\n",
    "sorted_indices = np.argsort(flattened_A)\n",
    "\n",
    "# 创建一个新数组，其元素是排序位置（从 1 开始计数）\n",
    "# Создать новый массив, элементами которого являются отсортированные позиции (считая от 1)\n",
    "sorted_positions = np.argsort(sorted_indices) + 1\n",
    "\n",
    "# 将新数组重塑为原始数组 A 的形状 A.shape用于获取原数组的形状\n",
    "# Переформирование нового массива в форму исходного массива A A.shape используется для получения формы исходного массива\n",
    "result = sorted_positions.reshape(A.shape)\n",
    "result\n"
   ]
  },
  {
   "cell_type": "markdown",
   "metadata": {},
   "source": [
    "# Задание 2.5 (2 балла)\n",
    "\n",
    "Примените $\\min-\\max$ - нормализацию к строкам массива `A`. То есть нужно получить новый массивы, в каждой строке которого максимальный элементы равен $1$, минимальный - $0$. "
   ]
  },
  {
   "cell_type": "code",
   "execution_count": 24,
   "metadata": {},
   "outputs": [
    {
     "data": {
      "text/plain": [
       "array([[0.86597938, 0.16494845, 0.24742268, ..., 0.40206186, 0.87628866,\n",
       "        0.71134021],\n",
       "       [0.93939394, 0.32323232, 0.24242424, ..., 0.15151515, 0.7979798 ,\n",
       "        1.        ],\n",
       "       [0.07142857, 0.67346939, 0.01020408, ..., 0.60204082, 0.64285714,\n",
       "        0.33673469],\n",
       "       ...,\n",
       "       [0.25      , 0.09375   , 0.91666667, ..., 0.4375    , 0.39583333,\n",
       "        0.67708333],\n",
       "       [0.71276596, 0.44680851, 0.11702128, ..., 0.10638298, 0.06382979,\n",
       "        0.78723404],\n",
       "       [0.18181818, 0.83838384, 0.        , ..., 0.33333333, 0.13131313,\n",
       "        0.76767677]])"
      ]
     },
     "execution_count": 24,
     "metadata": {},
     "output_type": "execute_result"
    }
   ],
   "source": [
    "# 找到每一行的最小值和最大值\n",
    "# Найти минимальное и максимальное значения для каждой строки\n",
    "min_values = A.min(axis=1, keepdims=True)\n",
    "max_values = A.max(axis=1, keepdims=True)\n",
    "\n",
    "# 应用最小-最大归一化\n",
    "# Применить нормализацию по принципу min-max\n",
    "normalized_A = (A - min_values) / (max_values - min_values)\n",
    "normalized_A"
   ]
  },
  {
   "cell_type": "markdown",
   "metadata": {},
   "source": [
    "# Задание 2.6 (2 балла)\n",
    "\n",
    "Сгенерируйте новый трехмерный массив, размерности $10 \\times 200 \\times 50$. Подмассивы по нулевой оси должны состоять из элементов `A`, умноженных на $1 - 10$ соответственно"
   ]
  },
  {
   "cell_type": "code",
   "execution_count": 25,
   "metadata": {},
   "outputs": [
    {
     "data": {
      "text/plain": [
       "array([[[ 86,  18,  26, ...,  41,  87,  71],\n",
       "        [ 93,  32,  24, ...,  15,  79,  99],\n",
       "        [  7,  66,   1, ...,  59,  63,  33],\n",
       "        ...,\n",
       "        [ 27,  12,  91, ...,  45,  41,  68],\n",
       "        [ 69,  44,  13, ...,  12,   8,  76],\n",
       "        [ 18,  83,   0, ...,  33,  13,  76]],\n",
       "\n",
       "       [[172,  36,  52, ...,  82, 174, 142],\n",
       "        [186,  64,  48, ...,  30, 158, 198],\n",
       "        [ 14, 132,   2, ..., 118, 126,  66],\n",
       "        ...,\n",
       "        [ 54,  24, 182, ...,  90,  82, 136],\n",
       "        [138,  88,  26, ...,  24,  16, 152],\n",
       "        [ 36, 166,   0, ...,  66,  26, 152]],\n",
       "\n",
       "       [[258,  54,  78, ..., 123, 261, 213],\n",
       "        [279,  96,  72, ...,  45, 237, 297],\n",
       "        [ 21, 198,   3, ..., 177, 189,  99],\n",
       "        ...,\n",
       "        [ 81,  36, 273, ..., 135, 123, 204],\n",
       "        [207, 132,  39, ...,  36,  24, 228],\n",
       "        [ 54, 249,   0, ...,  99,  39, 228]],\n",
       "\n",
       "       ...,\n",
       "\n",
       "       [[688, 144, 208, ..., 328, 696, 568],\n",
       "        [744, 256, 192, ..., 120, 632, 792],\n",
       "        [ 56, 528,   8, ..., 472, 504, 264],\n",
       "        ...,\n",
       "        [216,  96, 728, ..., 360, 328, 544],\n",
       "        [552, 352, 104, ...,  96,  64, 608],\n",
       "        [144, 664,   0, ..., 264, 104, 608]],\n",
       "\n",
       "       [[774, 162, 234, ..., 369, 783, 639],\n",
       "        [837, 288, 216, ..., 135, 711, 891],\n",
       "        [ 63, 594,   9, ..., 531, 567, 297],\n",
       "        ...,\n",
       "        [243, 108, 819, ..., 405, 369, 612],\n",
       "        [621, 396, 117, ..., 108,  72, 684],\n",
       "        [162, 747,   0, ..., 297, 117, 684]],\n",
       "\n",
       "       [[860, 180, 260, ..., 410, 870, 710],\n",
       "        [930, 320, 240, ..., 150, 790, 990],\n",
       "        [ 70, 660,  10, ..., 590, 630, 330],\n",
       "        ...,\n",
       "        [270, 120, 910, ..., 450, 410, 680],\n",
       "        [690, 440, 130, ..., 120,  80, 760],\n",
       "        [180, 830,   0, ..., 330, 130, 760]]])"
      ]
     },
     "execution_count": 25,
     "metadata": {},
     "output_type": "execute_result"
    }
   ],
   "source": [
    "# 创建一个形状为10的一维数组，其元素为1到10\n",
    "# Создать одномерный массив формы 10 с элементами от 1 до 10\n",
    "factors = np.arange(1, 11)\n",
    "\n",
    "# 利用NumPy的广播机制将A乘以factors，得到所需的三维数组\n",
    "# Умножение A на коэффициенты с использованием механизма трансляции NumPy для получения требуемого 3D-массива\n",
    "B = A * factors[:, np.newaxis, np.newaxis]\n",
    "B"
   ]
  },
  {
   "cell_type": "markdown",
   "metadata": {},
   "source": [
    "# Задание 2.7 (2 балла)\n",
    "\n",
    "Создайте новый массив, такой же размерности, как и `A`, в котором сначала сгруппированы четные столбцы `A`, потом  нечетные. Используйте [np.concat()](https://numpy.org/doc/stable/reference/generated/numpy.concatenate.html) "
   ]
  },
  {
   "cell_type": "code",
   "execution_count": 26,
   "metadata": {},
   "outputs": [
    {
     "data": {
      "text/plain": [
       "array([[86, 26, 67, ..., 71, 41, 71],\n",
       "       [93, 24, 45, ..., 60, 15, 99],\n",
       "       [ 7,  1,  9, ..., 91, 59, 33],\n",
       "       ...,\n",
       "       [27, 91, 49, ..., 78, 45, 68],\n",
       "       [69, 13, 67, ..., 12, 12, 76],\n",
       "       [18,  0, 32, ..., 15, 33, 76]])"
      ]
     },
     "execution_count": 26,
     "metadata": {},
     "output_type": "execute_result"
    }
   ],
   "source": [
    "#提取偶数列\n",
    "# Извлечение четных столбцов\n",
    "even_columns = A[:, ::2]\n",
    "\n",
    "# 提取奇数列\n",
    "# Извлечение нечетных серий\n",
    "odd_columns = A[:, 1::2]\n",
    "\n",
    "new_A = np.concatenate((even_columns,odd_columns), axis=1)\n",
    "new_A\n"
   ]
  },
  {
   "cell_type": "markdown",
   "metadata": {},
   "source": [
    "# Задание 2.8 (2 балла)\n",
    "\n",
    "Посчитайте количество строк массива `A`, в который все элементы больше 5. Используйте [np.all()](https://numpy.org/doc/stable/reference/generated/numpy.all.html) "
   ]
  },
  {
   "cell_type": "code",
   "execution_count": null,
   "metadata": {},
   "outputs": [],
   "source": [
    "# 创建一个布尔数组，其中元素表示 A 中的元素是否大于 5\n",
    "# Создать булевский массив, элементы которого указывают, больше ли элементов в A, чем 5\n",
    "A_5 = A > 5\n",
    "\n",
    "# 使用 np.all() 检查哪些行的所有元素都大于 5\n",
    "# Используйте np.all() для проверки того, в каких строках все элементы больше 5\n",
    "all_5 = np.all(A_5, axis=1)\n",
    "\n",
    "# 统计满足条件的行数\n",
    "# Количество подсчитанных строк, удовлетворяющих условиям\n",
    "A_all_5 = np.sum(all_5)\n",
    "A_all_5"
   ]
  },
  {
   "cell_type": "markdown",
   "metadata": {},
   "source": [
    "# Задание 2.9 (2 балла)\n",
    "\n",
    "Поделите массив `A` горизонтально на 10 частей и создайте новый массив размерности $20 \\times 50$, который является средним этих частей. Используйте [np.split()](https://numpy.org/doc/stable/reference/generated/numpy.split.html)"
   ]
  },
  {
   "cell_type": "code",
   "execution_count": null,
   "metadata": {},
   "outputs": [],
   "source": [
    "A_split = np.split(A, 10)\n",
    "\n",
    "A_mean = np.sum(A_split, axis=0) / 10\n",
    "A_mean"
   ]
  },
  {
   "cell_type": "markdown",
   "metadata": {},
   "source": [
    "# Задание 2.10 (4 балла)\n",
    "\n",
    "\"Разверните\" массив `A` в одномерный массив. Оставьте в нём только уникальные элементы в том же порядке, в котором они встречаются в массиве. Используйте [np.unique()](https://numpy.org/doc/stable/reference/generated/numpy.unique.html)"
   ]
  },
  {
   "cell_type": "code",
   "execution_count": null,
   "metadata": {},
   "outputs": [],
   "source": [
    "A_flatten = A.flatten()\n",
    "\n",
    "A_array, index  = np.unique(A_flatten, return_index=True)\n",
    "\n",
    "A_unique = A_flatten[np.sort(index)]\n",
    "A_unique"
   ]
  },
  {
   "cell_type": "markdown",
   "metadata": {},
   "source": [
    "# Задание 2.11 (3 балла)\n",
    "\n",
    "Создайте одномерный массив размерности $200$, в котором каждый элемент - евклидово расстояние между соответствующей строкой `A` и \"средней\" строкой `A`"
   ]
  },
  {
   "cell_type": "code",
   "execution_count": null,
   "metadata": {},
   "outputs": [],
   "source": [
    "A_mean = np.mean(A, axis=0)\n",
    "\n",
    "B = np.sqrt(np.sum((A - A_mean)**2, axis = 1))\n",
    "B"
   ]
  },
  {
   "cell_type": "markdown",
   "metadata": {},
   "source": [
    "# Задание 2.12 (2 балла)\n",
    "\n",
    "Создайте новый массив, который состоит из элементов `A`, измененных по следующим правилам:\n",
    "- если элемент меньше $50$, то он умножается на $2$\n",
    "- в противном случае он умножается на $3$\n",
    "\n",
    "Используйте [np.where()](https://numpy.org/doc/stable/reference/generated/numpy.where.html)"
   ]
  },
  {
   "cell_type": "code",
   "execution_count": null,
   "metadata": {},
   "outputs": [],
   "source": [
    "A_where = np.where(A < 50, A*2, A*3)\n",
    "A_where"
   ]
  },
  {
   "cell_type": "markdown",
   "metadata": {},
   "source": [
    "# Задание 2.13 (7 баллов)\n",
    "\n",
    "Разверните массив `A` в одномерный массив. Создайте три новых массива, подсчитав скользящие средние по окнам $3$, $5$, $10$. Найдите сумму этих массивов, выровнив из размерности нулями справа\n",
    "\n",
    "*Tip: реализуйте функцию, которая считает скользящее среднее. Используйте [np.cumsum()](https://numpy.org/doc/stable/reference/generated/numpy.cumsum.html) или [np.convolve()](https://numpy.org/doc/stable/reference/generated/numpy.convolve.html)*"
   ]
  },
  {
   "cell_type": "code",
   "execution_count": null,
   "metadata": {},
   "outputs": [],
   "source": [
    "def moving(arr, window):\n",
    "    A_cumsum = np.cumsum(arr, dtype=float)\n",
    "    A_cumsum[window:] = A_cumsum[window:] - A_cumsum[:-window]\n",
    "    return A_cumsum[window - 1:] / window\n",
    "\n",
    "A_flatten = A.flatten()\n",
    "\n",
    "A3 = moving(A_flatten, 3)\n",
    "A5 = moving(A_flatten, 5)\n",
    "A10 = moving(A_flatten, 10)\n",
    "\n",
    "max_len = max(len(A3), len(A5), len(A10))\n",
    "\n",
    "B3 = np.zeros(max_len)\n",
    "B5 = np.zeros(max_len)\n",
    "B10 = np.zeros(max_len)\n",
    "\n",
    "B3[:len(A3)] = A3\n",
    "B5[:len(A5)] = A5\n",
    "B10[:len(A10)] = A10\n",
    "\n",
    "sum_A = B3 + B5 + B10\n",
    "sum_A"
   ]
  },
  {
   "cell_type": "markdown",
   "metadata": {},
   "source": [
    "# Задание 2.14 (8 баллов)\n",
    "\n",
    "Постройте график функции $$f(x) = (5  \\sin(2x) - \\cos^2(x) - 1 + |x^3| - x^2) / (x^2 + 1)$$  \n",
    "\n",
    "и производной от этой функции.  Найдите минимум с помощью `scipy` и обозначьте его на графике. На этой же оси постройте графики скользящего среднего этой функции с окном $1$, $2$, $5$."
   ]
  },
  {
   "cell_type": "code",
   "execution_count": null,
   "metadata": {},
   "outputs": [],
   "source": []
  },
  {
   "cell_type": "markdown",
   "metadata": {},
   "source": [
    "# Задание 2.15 (10 баллов)\n",
    "\n",
    "Есть следующий алгоритм семплинирования, на вход функции подается вектор из целых положительных чисел и число семплов."
   ]
  },
  {
   "cell_type": "code",
   "execution_count": 27,
   "metadata": {},
   "outputs": [
    {
     "data": {
      "text/plain": [
       "[0, 0, 0, 0, 0]"
      ]
     },
     "execution_count": 27,
     "metadata": {},
     "output_type": "execute_result"
    }
   ],
   "source": [
    "from typing import List \n",
    "\n",
    "def sample(x: List[int], c: int) -> List[int]:\n",
    "    assert len(x) > 0\n",
    "    \n",
    "    s = np.sum(x)\n",
    "    res = []\n",
    "    for _ in range(c):\n",
    "        val = s * np.random.random()\n",
    "        cur, idx = 0, 0        \n",
    "        while cur + x[idx] <= val:\n",
    "            cur += x[idx]\n",
    "            idx += 1\n",
    "            \n",
    "        res.append(idx)\n",
    "    return res\n",
    "\n",
    "            \n",
    "sample([50, 3, 1, 7, 20], 5)   "
   ]
  },
  {
   "cell_type": "markdown",
   "metadata": {},
   "source": [
    "Реализуйте данный алгоритм более оптимальным способом на массивах `numpy`, без использования циклов. Проверьте корректность и идентичность алгоритмов семплирования с помощью статистических тестов."
   ]
  },
  {
   "cell_type": "code",
   "execution_count": null,
   "metadata": {},
   "outputs": [],
   "source": []
  },
  {
   "cell_type": "markdown",
   "metadata": {},
   "source": [
    "# Задание 2.16 (5 баллов)\n",
    "\n",
    "Есть следующий алгоритм \"случайного блуждания\""
   ]
  },
  {
   "cell_type": "code",
   "execution_count": 28,
   "metadata": {},
   "outputs": [
    {
     "data": {
      "text/plain": [
       "2142"
      ]
     },
     "execution_count": 28,
     "metadata": {},
     "output_type": "execute_result"
    }
   ],
   "source": [
    "import random \n",
    "\n",
    "def walk(n: int):\n",
    "    cur_position = 0\n",
    "    for i in range(n):\n",
    "        cur_position += random.choice([-3, -1, 0, 2, 3])\n",
    "\n",
    "    return cur_position\n",
    "\n",
    "walk(10_000)"
   ]
  },
  {
   "cell_type": "markdown",
   "metadata": {},
   "source": [
    "Реализуйте более эффективную версию с помощью `numpy`, сравните производительность (используя, например, magic `timeit`). Воспользовавшись [kdeplot()](https://seaborn.pydata.org/generated/seaborn.kdeplot.html) или аналогами, постройте график распределения значений `walk(10_000)` на каком-то разумном числе запусков. "
   ]
  },
  {
   "cell_type": "code",
   "execution_count": null,
   "metadata": {},
   "outputs": [],
   "source": []
  },
  {
   "cell_type": "markdown",
   "metadata": {},
   "source": [
    "# Задание 2.17 (5 баллов)\n",
    "\n",
    "Имеется функция, которая проделывает достаточно странные манипуляции с массивом `numpy`"
   ]
  },
  {
   "cell_type": "code",
   "execution_count": 29,
   "metadata": {},
   "outputs": [
    {
     "data": {
      "text/plain": [
       "0.6555878446433502"
      ]
     },
     "execution_count": 29,
     "metadata": {},
     "output_type": "execute_result"
    }
   ],
   "source": [
    "import numpy.typing as npt\n",
    "\n",
    "def strange_conv(a: npt.NDArray[np.float64]) -> np.float64:\n",
    "    x = a.shape[0]\n",
    "    y = a.shape[1]\n",
    "\n",
    "    t = 1.\n",
    "    for y in range(y - 5):\n",
    "        for x in range(x - 3):\n",
    "            c = 1.5 * a[y+1, x+2] - a[y+5, x+3] * a[y, x] + 0.2 * a[y+4, x]\n",
    "            t = 0.2 * t + 0.8 * c\n",
    "\n",
    "    return t\n",
    "\n",
    "\n",
    "a = np.random.random((10000, 10000))\n",
    "strange_conv(a)\n"
   ]
  },
  {
   "cell_type": "markdown",
   "metadata": {},
   "source": [
    "Оптимизируйте данную функцию с помощью (2 на выбор):\n",
    "- [Numba](https://numba.pydata.org)\n",
    "- `Cython` (+5 баллов)\n",
    "- [Taichi](https://github.com/taichi-dev/taichi) (+5 баллов)\n",
    "- `Pythran `[[1]](https://pythran.readthedocs.io/en/latest/), [[2]](https://serge-sans-paille.github.io/pythran-stories/pythran-tutorial.html) (+2 балла)\n",
    "\n",
    "Сравните производительность."
   ]
  },
  {
   "cell_type": "code",
   "execution_count": null,
   "metadata": {},
   "outputs": [],
   "source": []
  }
 ],
 "metadata": {
  "kernelspec": {
   "display_name": "Python 3.10.6 64-bit",
   "language": "python",
   "name": "python3"
  },
  "language_info": {
   "codemirror_mode": {
    "name": "ipython",
    "version": 3
   },
   "file_extension": ".py",
   "mimetype": "text/x-python",
   "name": "python",
   "nbconvert_exporter": "python",
   "pygments_lexer": "ipython3",
   "version": "3.11.4"
  },
  "orig_nbformat": 4,
  "vscode": {
   "interpreter": {
    "hash": "916dbcbb3f70747c44a77c7bcd40155683ae19c65e1c03b4aa3499c5328201f1"
   }
  }
 },
 "nbformat": 4,
 "nbformat_minor": 2
}
