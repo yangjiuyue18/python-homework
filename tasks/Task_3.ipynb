{
 "cells": [
  {
   "cell_type": "markdown",
   "metadata": {},
   "source": [
    "# Задание 3.\n",
    "\n",
    "Загрузите [данные по изменению температуры поверхности земли](https://www.kaggle.com/datasets/berkeleyearth/climate-change-earth-surface-temperature-data). Для этого может понадобится зарегистрироваться на [Kaggle](https://kaggle.com). Затем нужно будет работать с данными, которые содержатся в файле **GlobalLandTemperaturesByMajorCity.csv**"
   ]
  },
  {
   "cell_type": "code",
   "execution_count": 52,
   "metadata": {},
   "outputs": [
    {
     "data": {
      "text/html": [
       "<div>\n",
       "<style scoped>\n",
       "    .dataframe tbody tr th:only-of-type {\n",
       "        vertical-align: middle;\n",
       "    }\n",
       "\n",
       "    .dataframe tbody tr th {\n",
       "        vertical-align: top;\n",
       "    }\n",
       "\n",
       "    .dataframe thead th {\n",
       "        text-align: right;\n",
       "    }\n",
       "</style>\n",
       "<table border=\"1\" class=\"dataframe\">\n",
       "  <thead>\n",
       "    <tr style=\"text-align: right;\">\n",
       "      <th></th>\n",
       "      <th>dt</th>\n",
       "      <th>AverageTemperature</th>\n",
       "      <th>AverageTemperatureUncertainty</th>\n",
       "      <th>City</th>\n",
       "      <th>Country</th>\n",
       "      <th>Latitude</th>\n",
       "      <th>Longitude</th>\n",
       "    </tr>\n",
       "  </thead>\n",
       "  <tbody>\n",
       "    <tr>\n",
       "      <th>0</th>\n",
       "      <td>1849-01-01</td>\n",
       "      <td>26.704</td>\n",
       "      <td>1.435</td>\n",
       "      <td>Abidjan</td>\n",
       "      <td>Côte D'Ivoire</td>\n",
       "      <td>5.63N</td>\n",
       "      <td>3.23W</td>\n",
       "    </tr>\n",
       "    <tr>\n",
       "      <th>1</th>\n",
       "      <td>1849-02-01</td>\n",
       "      <td>27.434</td>\n",
       "      <td>1.362</td>\n",
       "      <td>Abidjan</td>\n",
       "      <td>Côte D'Ivoire</td>\n",
       "      <td>5.63N</td>\n",
       "      <td>3.23W</td>\n",
       "    </tr>\n",
       "    <tr>\n",
       "      <th>2</th>\n",
       "      <td>1849-03-01</td>\n",
       "      <td>28.101</td>\n",
       "      <td>1.612</td>\n",
       "      <td>Abidjan</td>\n",
       "      <td>Côte D'Ivoire</td>\n",
       "      <td>5.63N</td>\n",
       "      <td>3.23W</td>\n",
       "    </tr>\n",
       "    <tr>\n",
       "      <th>3</th>\n",
       "      <td>1849-04-01</td>\n",
       "      <td>26.140</td>\n",
       "      <td>1.387</td>\n",
       "      <td>Abidjan</td>\n",
       "      <td>Côte D'Ivoire</td>\n",
       "      <td>5.63N</td>\n",
       "      <td>3.23W</td>\n",
       "    </tr>\n",
       "    <tr>\n",
       "      <th>4</th>\n",
       "      <td>1849-05-01</td>\n",
       "      <td>25.427</td>\n",
       "      <td>1.200</td>\n",
       "      <td>Abidjan</td>\n",
       "      <td>Côte D'Ivoire</td>\n",
       "      <td>5.63N</td>\n",
       "      <td>3.23W</td>\n",
       "    </tr>\n",
       "  </tbody>\n",
       "</table>\n",
       "</div>"
      ],
      "text/plain": [
       "          dt  AverageTemperature  AverageTemperatureUncertainty     City  \\\n",
       "0 1849-01-01              26.704                          1.435  Abidjan   \n",
       "1 1849-02-01              27.434                          1.362  Abidjan   \n",
       "2 1849-03-01              28.101                          1.612  Abidjan   \n",
       "3 1849-04-01              26.140                          1.387  Abidjan   \n",
       "4 1849-05-01              25.427                          1.200  Abidjan   \n",
       "\n",
       "         Country Latitude Longitude  \n",
       "0  Côte D'Ivoire    5.63N     3.23W  \n",
       "1  Côte D'Ivoire    5.63N     3.23W  \n",
       "2  Côte D'Ivoire    5.63N     3.23W  \n",
       "3  Côte D'Ivoire    5.63N     3.23W  \n",
       "4  Côte D'Ivoire    5.63N     3.23W  "
      ]
     },
     "execution_count": 52,
     "metadata": {},
     "output_type": "execute_result"
    }
   ],
   "source": [
    "import zipfile\n",
    "\n",
    "import pandas as pd\n",
    "import matplotlib.pyplot as plt\n",
    "\n",
    "%matplotlib inline\n",
    "\n",
    "with zipfile.ZipFile(\"archive.zip\") as z:\n",
    "    with z.open(\"GlobalLandTemperaturesByMajorCity.csv\") as f:\n",
    "        df = pd.read_csv(f, parse_dates=[\"dt\"])\n",
    "\n",
    "df.head()"
   ]
  },
  {
   "cell_type": "markdown",
   "metadata": {},
   "source": [
    "# Задание 3.1 (1 балл)\n",
    "\n",
    "В последующих заданиях будут учитываться данные начиная с 01.01.1950. Для этого создайте новый `DataFrame`, в котором удалены все строки до 01.01.1950. Используйте созданный DataFrame в последующих заданиях.  \n",
    "以下任务将考虑从 1950 年 1 月 1 日开始的数据。为此，请创建一个新的 \"数据帧\"，删除其中 1950 年 1 月 1 日之前的所有行。在后续任务中使用创建的 DataFrame。 "
   ]
  },
  {
   "cell_type": "code",
   "execution_count": 53,
   "metadata": {},
   "outputs": [
    {
     "name": "stdout",
     "output_type": "stream",
     "text": [
      "             dt  AverageTemperature  AverageTemperatureUncertainty     City  \\\n",
      "1212 1950-01-01              26.773                          0.239  Abidjan   \n",
      "1213 1950-02-01              27.527                          0.348  Abidjan   \n",
      "1214 1950-03-01              28.344                          0.431  Abidjan   \n",
      "1215 1950-04-01              27.830                          0.467  Abidjan   \n",
      "1216 1950-05-01              26.896                          0.248  Abidjan   \n",
      "\n",
      "            Country Latitude Longitude  \n",
      "1212  Côte D'Ivoire    5.63N     3.23W  \n",
      "1213  Côte D'Ivoire    5.63N     3.23W  \n",
      "1214  Côte D'Ivoire    5.63N     3.23W  \n",
      "1215  Côte D'Ivoire    5.63N     3.23W  \n",
      "1216  Côte D'Ivoire    5.63N     3.23W  \n"
     ]
    }
   ],
   "source": [
    "# 将字符串\"1950-01-01\"转换为datetime对象\n",
    "# Преобразуйте строку \"1950-01-01\" в объект \"datetime\".\n",
    "start_date = pd.to_datetime(\"1950-01-01\")\n",
    "\n",
    "# 筛选出1950年1月1日之后的数据\n",
    "# Отфильтровано для данных после 1 января 1950 года\n",
    "df_after_1950 = df[df[\"dt\"] >= start_date]\n",
    "\n",
    "# 查看新DataFrame的前几行，确保筛选正确\n",
    "# Просмотрите несколько первых строк нового DataFrame\n",
    "print(df_after_1950.head())"
   ]
  },
  {
   "cell_type": "markdown",
   "metadata": {},
   "source": [
    "# Задание 3.2 (2 балла)\n",
    "\n",
    "Постройте график среднегодовых температур в городе Торонто.  \n",
    "在多伦多城绘制年平均温度图。"
   ]
  },
  {
   "cell_type": "code",
   "execution_count": 54,
   "metadata": {},
   "outputs": [
    {
     "data": {
      "image/png": "[encoded data removed]",
      "text/plain": [
       "<Figure size 1000x500 with 1 Axes>"
      ]
     },
     "metadata": {},
     "output_type": "display_data"
    }
   ],
   "source": [
    "# 确保已经加载了df_after_1950\n",
    "# 筛选多伦多的数据\n",
    "# Отбор данных из Торонто\n",
    "toronto_data = df_after_1950[df_after_1950['City'] == 'Toronto']\n",
    "\n",
    "# 按年份分组并计算平均温度\n",
    "# Группировка по годам и вычисление средней температуры\n",
    "toronto_yearly_avg = toronto_data.groupby(toronto_data['dt'].dt.year)['AverageTemperature'].mean()\n",
    "\n",
    "# 绘制图表\n",
    "# Чартинг\n",
    "plt.figure(figsize=(10, 5))  # 设置图表大小\n",
    "plt.plot(toronto_yearly_avg, color='blue')  # 绘制年平均温度曲线\n",
    "plt.title('Toronto Average Annual Temperature')  # 图表标题\n",
    "plt.xlabel('year')  # X轴标签\n",
    "plt.ylabel('average temperature (°C)')  # Y轴标签\n",
    "plt.grid(True)  # 显示网格\n",
    "plt.show()  # 显示图表\n"
   ]
  },
  {
   "cell_type": "markdown",
   "metadata": {},
   "source": [
    "# Задание 3.3 (2 балла)\n",
    "\n",
    "Найдите город, для которого выборочная дисперсия температур на приведенных данных максимальна.  \n",
    "找出给定数据中温度样本方差最大的城市。"
   ]
  },
  {
   "cell_type": "code",
   "execution_count": 55,
   "metadata": {},
   "outputs": [
    {
     "name": "stdout",
     "output_type": "stream",
     "text": [
      "Город с наибольшей дисперсией в выборке температур: Harbin\n",
      "Выборочное значение дисперсии для города: 218.898615951821\n"
     ]
    }
   ],
   "source": [
    "# 确保数据已加载到df中\n",
    "# 1. 按城市分组数据\n",
    "# 1. Данные сгруппированы по городам\n",
    "grouped = df_after_1950.groupby('City')\n",
    "\n",
    "# 2. 计算每个城市的温度样本方差\n",
    "# 2. Рассчитайте выборочную дисперсию температуры для каждого города\n",
    "variance_by_city = grouped['AverageTemperature'].var()\n",
    "\n",
    "# 3. 找出样本方差最大的城市\n",
    "# 3. Определите город с наибольшей дисперсией выборки\n",
    "max_variance_city = variance_by_city.idxmax()\n",
    "max_variance_value = variance_by_city.max()\n",
    "\n",
    "print(\"Город с наибольшей дисперсией в выборке температур:\", max_variance_city)\n",
    "print(\"Выборочное значение дисперсии для города:\", max_variance_value)"
   ]
  },
  {
   "cell_type": "markdown",
   "metadata": {},
   "source": [
    "# Задание 3.4 (4 балла)\n",
    "\n",
    "На одной оси постройте графики, отображающие:\n",
    "1. Зависимость выборочной дисперсии температур от широты города (Latitude).\n",
    "2. Зависимость средней температуры в январе 1975 года от широты города (Latitude).\n",
    "3. Зависимость средней температуры в июле 1975 года от широты города (Latitude).  \n",
    "在同一坐标轴上绘制以下图表：  \n",
    "城市的温度样本方差与其纬度（Latitude）的关系。  \n",
    "1975年1月城市的平均温度与其纬度（Latitude）的关系。  \n",
    "1975年7月城市的平均温度与其纬度（Latitude）的关系。  "
   ]
  },
  {
   "cell_type": "code",
   "execution_count": 56,
   "metadata": {},
   "outputs": [
    {
     "data": {
      "image/png": "[encoded data removed]",
      "text/plain": [
       "<Figure size 1000x600 with 1 Axes>"
      ]
     },
     "metadata": {},
     "output_type": "display_data"
    }
   ],
   "source": [
    "# 计算样本方差\n",
    "# Рассчитайте выборочную дисперсию\n",
    "variance_by_city = df_after_1950.groupby('City').agg({'AverageTemperature': 'var', 'Latitude': 'first'})\n",
    "\n",
    "# 筛选1975年1月和7月的数据\n",
    "# Скрининг данных за январь и июль 1975 года\n",
    "jan_1975 = df_after_1950[(df_after_1950['dt'].dt.month == 1) & (df_after_1950['dt'].dt.year == 1975)]\n",
    "jul_1975 = df_after_1950[(df_after_1950['dt'].dt.month == 7) & (df_after_1950['dt'].dt.year == 1975)]\n",
    "\n",
    "# 计算1975年1月和7月的平均温度\n",
    "# Рассчитайте среднюю температуру для января и июля 1975 года\n",
    "avg_temp_jan_1975 = jan_1975.groupby('City').agg({'AverageTemperature': 'mean', 'Latitude': 'first'})\n",
    "avg_temp_jul_1975 = jul_1975.groupby('City').agg({'AverageTemperature': 'mean', 'Latitude': 'first'})\n",
    "\n",
    "# 绘制图表\n",
    "# Чартинг\n",
    "plt.figure(figsize=(10, 6))\n",
    "\n",
    "# 温度样本方差与纬度的关系\n",
    "# Дисперсия выборки температуры в зависимости от широты\n",
    "plt.scatter(variance_by_city['Latitude'], variance_by_city['AverageTemperature'], color='blue', label='Temperature sample variance')\n",
    "\n",
    "# 1975年1月平均温度与纬度的关系\n",
    "# Средняя температура января 1975 года в зависимости от широты\n",
    "plt.scatter(avg_temp_jan_1975['Latitude'], avg_temp_jan_1975['AverageTemperature'], color='green', label='Average January 1975 temperature')\n",
    "\n",
    "# 1975年7月平均温度与纬度的关系\n",
    "# Средняя температура июля 1975 года в зависимости от широты\n",
    "plt.scatter(avg_temp_jul_1975['Latitude'], avg_temp_jul_1975['AverageTemperature'], color='red', label='Average July 1975 temperature')\n",
    "\n",
    "plt.title('Temperature versus latitude')\n",
    "plt.xlabel('longitude')\n",
    "plt.ylabel('temp')\n",
    "plt.legend()\n",
    "plt.show()"
   ]
  },
  {
   "cell_type": "markdown",
   "metadata": {},
   "source": [
    "# Задание 3.5 (6 баллов)\n",
    "\n",
    "Посчитайте данные по среднегодовой температуре в Санкт-Петербурге. Определите года, в которых средняя температура была выше, чем в предыдущем  и последующем году. Постройте график среднегодовой температуры и обозначьте на нём найденные года (произвольным образом). \n",
    "\n",
    "Постройте модель линейной регрессии (можно использовать [LinearRegression](https://scikit-learn.org/stable/modules/generated/sklearn.linear_model.LinearRegression.html)): $\\mathbb{год} \\rightarrow \\mathbb{средняя\\_температура}$. Отобразите прямую на предыдущем графике.   \n",
    "计算圣彼得堡的年平均温度数据。确定哪些年份的平均温度高于前一年和后一年。在年平均温度图上以任意方式标记这些年份。\n",
    "\n",
    "构建一个线性回归模型（可以使用LinearRegression）: \n",
    "年份→年平均温度在之前的图表上显示这条线。"
   ]
  },
  {
   "cell_type": "code",
   "execution_count": 57,
   "metadata": {},
   "outputs": [
    {
     "data": {
      "image/png": "[encoded data removed]",
      "text/plain": [
       "<Figure size 1200x600 with 1 Axes>"
      ]
     },
     "metadata": {},
     "output_type": "display_data"
    }
   ],
   "source": [
    "import numpy as np\n",
    "from sklearn.linear_model import LinearRegression\n",
    "\n",
    "# 确保数据已加载到df中\n",
    "# 计算圣彼得堡的年平均温度\n",
    "# Вычислите среднегодовую температуру в Санкт-Петербурге\n",
    "spb_data = df_after_1950[df_after_1950['City'] == 'Saint Petersburg']\n",
    "spb_yearly_avg = spb_data.groupby(spb_data['dt'].dt.year)['AverageTemperature'].mean()\n",
    "\n",
    "# 使用平均值替代 NaN 值\n",
    "# Используйте среднее значение вместо значения NaN\n",
    "mean_temp = spb_yearly_avg.mean()\n",
    "spb_yearly_avg.fillna(mean_temp, inplace=True)\n",
    "\n",
    "# 确定特定年份\n",
    "# Определите конкретные годы\n",
    "years = spb_yearly_avg.index\n",
    "higher_years = [year for i, year in enumerate(years[1:-1]) if spb_yearly_avg.iloc[i] < spb_yearly_avg.iloc[i + 1] > spb_yearly_avg.iloc[i + 2]]\n",
    "\n",
    "# 准备数据以进行线性回归\n",
    "# Подготовьте данные для линейной регрессии\n",
    "X = np.array(years).reshape(-1, 1)  # 年份\n",
    "y = spb_yearly_avg.values  # 年平均温度\n",
    "\n",
    "# 拟合线性回归模型\n",
    "# Модели линейной регрессии\n",
    "model = LinearRegression().fit(X, y)\n",
    "trend_line = model.predict(X)\n",
    "\n",
    "# 绘图\n",
    "# Рисунок\n",
    "plt.figure(figsize=(12, 6))\n",
    "plt.plot(years, y, label='Average annual temperature')\n",
    "plt.scatter(higher_years, spb_yearly_avg.loc[higher_years], color='red', label='particular year')  # 标记特定年份\n",
    "plt.plot(years, trend_line, label='linear regression line', color='orange')\n",
    "plt.title('St. Petersburg mean annual temperature with linear trend line')\n",
    "plt.xlabel('year')\n",
    "plt.ylabel('average temperature (°C)')\n",
    "plt.legend()\n",
    "plt.show()\n"
   ]
  },
  {
   "cell_type": "markdown",
   "metadata": {},
   "source": [
    "# Задание 3.6 (4 балла)\n",
    "\n",
    "Найдите города, для которых: \n",
    "1. Разница между максимальным и минимальным значением среднегодовой температуры в выборке максимальна.\n",
    "2. Самая большая средняя разница между средней температурой января и средней температурой июля.\n",
    "3. Наибольшее среднее количество месяцев с отрицательной температурой в году.  \n",
    "找出下列城市   \n",
    "1. 样本中年平均气温的最大值与最小值之差最大。  \n",
    "2. 1 月平均气温与 7 月平均气温的平均差最大。  \n",
    "3. 平均每年出现负温度的月份数最多。  "
   ]
  },
  {
   "cell_type": "code",
   "execution_count": 58,
   "metadata": {},
   "outputs": [
    {
     "name": "stdout",
     "output_type": "stream",
     "text": [
      "Города с наибольшей разницей годовых температур: Mashhad\n",
      "Города с наибольшей разницей температур между январем и июлем: Harbin\n",
      "Города с наибольшим количеством месяцев со средней отрицательной температурой: Harbin\n"
     ]
    }
   ],
   "source": [
    "# 确保数据已加载到df中\n",
    "# 计算每个城市的年平均温度\n",
    "# Рассчитайте среднегодовую температуру для каждого города\n",
    "yearly_avg_temp = df_after_1950.groupby(['City', df_after_1950['dt'].dt.year])['AverageTemperature'].mean().reset_index(name='YearlyAvgTemp')\n",
    "\n",
    "# Города с наибольшей разницей годовых температур\n",
    "# 最大年温差城市\n",
    "temp_range = yearly_avg_temp.groupby('City')['YearlyAvgTemp'].agg(max_temp=('max'), min_temp=('min'))\n",
    "temp_range['range'] = temp_range['max_temp'] - temp_range['min_temp']\n",
    "city_max_range = temp_range['range'].idxmax()\n",
    "\n",
    "# 最大1月与7月温差城市\n",
    "# Города с наибольшей разницей температур между январем и июлем\n",
    "jan_temp = df_after_1950[df_after_1950['dt'].dt.month == 1].groupby('City')['AverageTemperature'].mean()\n",
    "jul_temp = df_after_1950[df_after_1950['dt'].dt.month == 7].groupby('City')['AverageTemperature'].mean()\n",
    "diff_temp = (jul_temp - jan_temp).abs()\n",
    "city_max_diff = diff_temp.idxmax()\n",
    "\n",
    "# 平均负温度月份最多的城市\n",
    "# Города с наибольшим количеством месяцев со средней отрицательной температурой\n",
    "negative_months = df_after_1950[df_after_1950['AverageTemperature'] < 0].groupby(['City', df_after_1950['dt'].dt.year])['dt'].nunique()\n",
    "avg_negative_months = negative_months.groupby('City').mean()\n",
    "city_most_neg_months = avg_negative_months.idxmax()\n",
    "\n",
    "print(\"Города с наибольшей разницей годовых температур:\", city_max_range)\n",
    "print(\"Города с наибольшей разницей температур между январем и июлем:\", city_max_diff)\n",
    "print(\"Города с наибольшим количеством месяцев со средней отрицательной температурой:\", city_most_neg_months)\n"
   ]
  },
  {
   "cell_type": "markdown",
   "metadata": {},
   "source": [
    "# Задание 3.7 (3 балла)\n",
    "\n",
    "Отобразите города на карте, например с помощью [geopandas/folium](https://geopandas.org/en/stable/gallery/plotting_with_folium.html) или [plotly](https://plotly.com/python-api-reference/generated/plotly.express.scatter_geo.html). Причем цвет метки должен соответствовать средней температуре в январе за последние 10 лет. \n",
    "\n",
    "在地图上显示城市，例如使用 [geopandas/folium](https://geopandas.org/en/stable/gallery/plotting_with_folium.html) 或 [plotly](https://plotly.com/python-api-reference/generated/plotly.express.scatter_geo.html)。标签的颜色应与过去 10 年 1 月的平均气温相对应。\n",
    "\n",
    "**\\***(+3 балла). Вычислите прямую с \"трендом\" по изменению средней температуры за год в каждом городе в период 1950-2013 (можно с помощью линейной регрессии, как в задании **3.5**). Отобразите города цветом, который зависит от угла наклона этой прямой.   \n",
    "\n",
    "**/****（+3 分）。计算 1950-2013 年间每个城市每年平均气温变化的 \"趋势 \"直线（您可以使用任务 **3.5**中的线性回归方法）。根据直线的斜率用不同颜色显示城市。\n",
    "\n",
    "**\\***(+1 балл) В дополнение к предыдущему пункту, используйте библиотеку [pwlf](https://pypi.org/project/pwlf/) с фиксированным числом сегментов и визуализируйте угол наклона последнего сегмента.   \n",
    "**\\***(+1 点) 除上一点外，使用 [pwlf](https://pypi.org/project/pwlf/)库中的固定段数，并可视化最后一段的角度。"
   ]
  },
  {
   "cell_type": "code",
   "execution_count": 66,
   "metadata": {},
   "outputs": [
    {
     "data": {
      "application/vnd.plotly.v1+json": {
       "config": {
        "plotlyServerURL": "https://plot.ly"
       },
       "data": [
        {
         "geo": "geo",
         "hovertemplate": "<b>%{hovertext}</b><br><br>Latitude=%{lat}<br>Longitude=%{lon}<br>AverageTemperature=%{marker.color}<extra></extra>",
         "hovertext": [
          "Abidjan",
          "Addis Abeba",
          "Ahmadabad",
          "Aleppo",
          "Alexandria",
          "Ankara",
          "Baghdad",
          "Bangalore",
          "Bangkok",
          "Belo Horizonte",
          "Berlin",
          "Bogotá",
          "Bombay",
          "Brasília",
          "Cairo",
          "Calcutta",
          "Cali",
          "Cape Town",
          "Casablanca",
          "Changchun",
          "Chengdu",
          "Chicago",
          "Chongqing",
          "Dakar",
          "Dalian",
          "Dar Es Salaam",
          "Delhi",
          "Dhaka",
          "Durban",
          "Faisalabad",
          "Fortaleza",
          "Gizeh",
          "Guangzhou",
          "Harare",
          "Harbin",
          "Ho Chi Minh City",
          "Hyderabad",
          "Ibadan",
          "Istanbul",
          "Izmir",
          "Jaipur",
          "Jakarta",
          "Jiddah",
          "Jinan",
          "Kabul",
          "Kano",
          "Kanpur",
          "Karachi",
          "Kiev",
          "Kinshasa",
          "Lagos",
          "Lahore",
          "Lakhnau",
          "Lima",
          "London",
          "Los Angeles",
          "Luanda",
          "Madras",
          "Madrid",
          "Manila",
          "Mashhad",
          "Melbourne",
          "Mexico",
          "Mogadishu",
          "Montreal",
          "Moscow",
          "Nagoya",
          "Nagpur",
          "Nairobi",
          "Nanjing",
          "New Delhi",
          "New York",
          "Paris",
          "Peking",
          "Pune",
          "Rangoon",
          "Rio De Janeiro",
          "Riyadh",
          "Rome",
          "Saint Petersburg",
          "Salvador",
          "Santiago",
          "Santo Domingo",
          "Seoul",
          "Shanghai",
          "Shenyang",
          "Singapore",
          "Surabaya",
          "Surat",
          "Sydney",
          "São Paulo",
          "Taipei",
          "Taiyuan",
          "Tangshan",
          "Tianjin",
          "Tokyo",
          "Toronto",
          "Umm Durman",
          "Wuhan",
          "Xian"
         ],
         "lat": [
          5.63,
          8.84,
          23.31,
          36.17,
          31.35,
          39.38,
          32.95,
          12.05,
          13.66,
          -20.09,
          52.24,
          4.02,
          18.48,
          -15.27,
          29.74,
          23.31,
          4.02,
          -32.95,
          32.95,
          44.2,
          31.35,
          42.59,
          29.74,
          15.27,
          39.38,
          -7.23,
          28.13,
          23.31,
          -29.74,
          31.35,
          -4.02,
          29.74,
          23.31,
          -18.48,
          45.81,
          10.45,
          16.87,
          7.23,
          40.99,
          37.78,
          26.52,
          -5.63,
          21.7,
          36.17,
          34.56,
          12.05,
          26.52,
          24.92,
          50.63,
          -4.02,
          5.63,
          31.35,
          26.52,
          -12.05,
          52.24,
          34.56,
          -8.84,
          13.66,
          40.99,
          15.27,
          36.17,
          -37.78,
          20.09,
          2.41,
          45.81,
          55.45,
          34.56,
          21.7,
          -0.8,
          31.35,
          28.13,
          40.99,
          49.03,
          39.38,
          18.48,
          16.87,
          -23.31,
          24.92,
          42.59,
          60.27,
          -13.66,
          -32.95,
          18.48,
          37.78,
          31.35,
          40.99,
          0.8,
          -7.23,
          21.7,
          -34.56,
          -23.31,
          24.92,
          37.78,
          37.78,
          39.38,
          36.17,
          44.2,
          15.27,
          29.74,
          34.56
         ],
         "legendgroup": "",
         "lon": [
          -3.23,
          38.11,
          72.52,
          37.79,
          30.16,
          33.29,
          45,
          77.26,
          99.91,
          -44.36,
          13.14,
          -74.73,
          72.68,
          -47.5,
          31.38,
          88.25,
          -76.34,
          18.19,
          -6.7,
          125.22,
          103.66,
          -87.27,
          107.08,
          -17.5,
          120.69,
          39.73,
          77.27,
          90,
          31.38,
          73.51,
          -40.98,
          31.38,
          112.72,
          30.42,
          125.77,
          107.18,
          78.7,
          4.05,
          29.82,
          26.44,
          75.22,
          106.55,
          38.94,
          117.35,
          70.05,
          8.22,
          80.6,
          67.39,
          31.69,
          15.27,
          3.23,
          73.51,
          80.6,
          -77.26,
          0,
          -118.7,
          13.78,
          80.09,
          -4.26,
          120.83,
          59.67,
          144.41,
          -98.96,
          45.8,
          -72.69,
          36.85,
          136.22,
          78.75,
          36.16,
          118.74,
          77.27,
          -74.56,
          2.45,
          116.53,
          74.37,
          95.44,
          -42.82,
          46.11,
          13.09,
          29.19,
          -38.81,
          -69.89,
          -69.3,
          126.1,
          120.63,
          123.55,
          103.66,
          112.7,
          73.56,
          151.78,
          -46.31,
          122.36,
          111.86,
          113.9,
          116.53,
          139.23,
          -80.5,
          32.5,
          114.46,
          108.97
         ],
         "marker": {
          "color": [
           27.283000000000005,
           18.223900000000004,
           19.9577,
           5.9257,
           14.8218,
           -0.6110000000000001,
           10.115300000000001,
           23.564100000000003,
           25.754399999999997,
           23.297800000000002,
           0.5474,
           20.7012,
           24.8241,
           22.876800000000003,
           13.7684,
           18.7665,
           22.541400000000003,
           20.599200000000003,
           9.8965,
           -15.696800000000001,
           0.7176,
           0.3448999999999999,
           6.0341000000000005,
           22.244300000000003,
           -4.062900000000001,
           28.469600000000003,
           14.4773,
           18.470100000000002,
           23.3927,
           12.4543,
           27.981099999999998,
           13.7684,
           12.472,
           22.3477,
           -18.3022,
           26.240500000000004,
           23.573900000000002,
           27.794900000000002,
           5.551,
           10.496500000000001,
           15.791599999999999,
           26.8014,
           23.7791,
           -1.2490999999999999,
           2.2249,
           22.177799999999998,
           14.6328,
           18.513300000000005,
           -4.394,
           24.9156,
           27.0699,
           12.4543,
           14.6328,
           20.175900000000002,
           4.523300000000001,
           9.8689,
           25.1031,
           25.225,
           3.9714,
           25.430500000000002,
           0.9080000000000001,
           20.1007,
           12.8827,
           27.3545,
           -10.5252,
           -7.909700000000001,
           4.4636,
           19.542099999999998,
           17.6974,
           2.8227,
           14.4773,
           -2.168,
           4.0207,
           -3.8920000000000003,
           21.0933,
           24.9906,
           26.133100000000002,
           14.435300000000002,
           3.6942999999999997,
           -5.447,
           26.9133,
           13.317699999999999,
           24.838,
           -3.3711999999999995,
           3.5253,
           -10.7052,
           26.544100000000004,
           27.1278,
           20.5946,
           20.6309,
           22.7624,
           16.999999999999996,
           -7.8199999999999985,
           -3.1287,
           -3.8920000000000003,
           1.8161999999999998,
           -6.7642,
           23.3256,
           3.7445,
           -2.1035
          ],
          "coloraxis": "coloraxis",
          "symbol": "circle"
         },
         "mode": "markers",
         "name": "",
         "showlegend": false,
         "type": "scattergeo"
        }
       ],
       "layout": {
        "coloraxis": {
         "cmax": 28.469600000000003,
         "cmin": -18.3022,
         "colorbar": {
          "title": {
           "text": "AverageTemperature"
          }
         },
         "colorscale": [
          [
           0,
           "#0d0887"
          ],
          [
           0.1111111111111111,
           "#46039f"
          ],
          [
           0.2222222222222222,
           "#7201a8"
          ],
          [
           0.3333333333333333,
           "#9c179e"
          ],
          [
           0.4444444444444444,
           "#bd3786"
          ],
          [
           0.5555555555555556,
           "#d8576b"
          ],
          [
           0.6666666666666666,
           "#ed7953"
          ],
          [
           0.7777777777777778,
           "#fb9f3a"
          ],
          [
           0.8888888888888888,
           "#fdca26"
          ],
          [
           1,
           "#f0f921"
          ]
         ]
        },
        "geo": {
         "center": {},
         "domain": {
          "x": [
           0,
           1
          ],
          "y": [
           0,
           1
          ]
         },
         "projection": {
          "type": "natural earth"
         }
        },
        "legend": {
         "tracegroupgap": 0
        },
        "template": {
         "data": {
          "bar": [
           {
            "error_x": {
             "color": "#2a3f5f"
            },
            "error_y": {
             "color": "#2a3f5f"
            },
            "marker": {
             "line": {
              "color": "#E5ECF6",
              "width": 0.5
             },
             "pattern": {
              "fillmode": "overlay",
              "size": 10,
              "solidity": 0.2
             }
            },
            "type": "bar"
           }
          ],
          "barpolar": [
           {
            "marker": {
             "line": {
              "color": "#E5ECF6",
              "width": 0.5
             },
             "pattern": {
              "fillmode": "overlay",
              "size": 10,
              "solidity": 0.2
             }
            },
            "type": "barpolar"
           }
          ],
          "carpet": [
           {
            "aaxis": {
             "endlinecolor": "#2a3f5f",
             "gridcolor": "white",
             "linecolor": "white",
             "minorgridcolor": "white",
             "startlinecolor": "#2a3f5f"
            },
            "baxis": {
             "endlinecolor": "#2a3f5f",
             "gridcolor": "white",
             "linecolor": "white",
             "minorgridcolor": "white",
             "startlinecolor": "#2a3f5f"
            },
            "type": "carpet"
           }
          ],
          "choropleth": [
           {
            "colorbar": {
             "outlinewidth": 0,
             "ticks": ""
            },
            "type": "choropleth"
           }
          ],
          "contour": [
           {
            "colorbar": {
             "outlinewidth": 0,
             "ticks": ""
            },
            "colorscale": [
             [
              0,
              "#0d0887"
             ],
             [
              0.1111111111111111,
              "#46039f"
             ],
             [
              0.2222222222222222,
              "#7201a8"
             ],
             [
              0.3333333333333333,
              "#9c179e"
             ],
             [
              0.4444444444444444,
              "#bd3786"
             ],
             [
              0.5555555555555556,
              "#d8576b"
             ],
             [
              0.6666666666666666,
              "#ed7953"
             ],
             [
              0.7777777777777778,
              "#fb9f3a"
             ],
             [
              0.8888888888888888,
              "#fdca26"
             ],
             [
              1,
              "#f0f921"
             ]
            ],
            "type": "contour"
           }
          ],
          "contourcarpet": [
           {
            "colorbar": {
             "outlinewidth": 0,
             "ticks": ""
            },
            "type": "contourcarpet"
           }
          ],
          "heatmap": [
           {
            "colorbar": {
             "outlinewidth": 0,
             "ticks": ""
            },
            "colorscale": [
             [
              0,
              "#0d0887"
             ],
             [
              0.1111111111111111,
              "#46039f"
             ],
             [
              0.2222222222222222,
              "#7201a8"
             ],
             [
              0.3333333333333333,
              "#9c179e"
             ],
             [
              0.4444444444444444,
              "#bd3786"
             ],
             [
              0.5555555555555556,
              "#d8576b"
             ],
             [
              0.6666666666666666,
              "#ed7953"
             ],
             [
              0.7777777777777778,
              "#fb9f3a"
             ],
             [
              0.8888888888888888,
              "#fdca26"
             ],
             [
              1,
              "#f0f921"
             ]
            ],
            "type": "heatmap"
           }
          ],
          "heatmapgl": [
           {
            "colorbar": {
             "outlinewidth": 0,
             "ticks": ""
            },
            "colorscale": [
             [
              0,
              "#0d0887"
             ],
             [
              0.1111111111111111,
              "#46039f"
             ],
             [
              0.2222222222222222,
              "#7201a8"
             ],
             [
              0.3333333333333333,
              "#9c179e"
             ],
             [
              0.4444444444444444,
              "#bd3786"
             ],
             [
              0.5555555555555556,
              "#d8576b"
             ],
             [
              0.6666666666666666,
              "#ed7953"
             ],
             [
              0.7777777777777778,
              "#fb9f3a"
             ],
             [
              0.8888888888888888,
              "#fdca26"
             ],
             [
              1,
              "#f0f921"
             ]
            ],
            "type": "heatmapgl"
           }
          ],
          "histogram": [
           {
            "marker": {
             "pattern": {
              "fillmode": "overlay",
              "size": 10,
              "solidity": 0.2
             }
            },
            "type": "histogram"
           }
          ],
          "histogram2d": [
           {
            "colorbar": {
             "outlinewidth": 0,
             "ticks": ""
            },
            "colorscale": [
             [
              0,
              "#0d0887"
             ],
             [
              0.1111111111111111,
              "#46039f"
             ],
             [
              0.2222222222222222,
              "#7201a8"
             ],
             [
              0.3333333333333333,
              "#9c179e"
             ],
             [
              0.4444444444444444,
              "#bd3786"
             ],
             [
              0.5555555555555556,
              "#d8576b"
             ],
             [
              0.6666666666666666,
              "#ed7953"
             ],
             [
              0.7777777777777778,
              "#fb9f3a"
             ],
             [
              0.8888888888888888,
              "#fdca26"
             ],
             [
              1,
              "#f0f921"
             ]
            ],
            "type": "histogram2d"
           }
          ],
          "histogram2dcontour": [
           {
            "colorbar": {
             "outlinewidth": 0,
             "ticks": ""
            },
            "colorscale": [
             [
              0,
              "#0d0887"
             ],
             [
              0.1111111111111111,
              "#46039f"
             ],
             [
              0.2222222222222222,
              "#7201a8"
             ],
             [
              0.3333333333333333,
              "#9c179e"
             ],
             [
              0.4444444444444444,
              "#bd3786"
             ],
             [
              0.5555555555555556,
              "#d8576b"
             ],
             [
              0.6666666666666666,
              "#ed7953"
             ],
             [
              0.7777777777777778,
              "#fb9f3a"
             ],
             [
              0.8888888888888888,
              "#fdca26"
             ],
             [
              1,
              "#f0f921"
             ]
            ],
            "type": "histogram2dcontour"
           }
          ],
          "mesh3d": [
           {
            "colorbar": {
             "outlinewidth": 0,
             "ticks": ""
            },
            "type": "mesh3d"
           }
          ],
          "parcoords": [
           {
            "line": {
             "colorbar": {
              "outlinewidth": 0,
              "ticks": ""
             }
            },
            "type": "parcoords"
           }
          ],
          "pie": [
           {
            "automargin": true,
            "type": "pie"
           }
          ],
          "scatter": [
           {
            "fillpattern": {
             "fillmode": "overlay",
             "size": 10,
             "solidity": 0.2
            },
            "type": "scatter"
           }
          ],
          "scatter3d": [
           {
            "line": {
             "colorbar": {
              "outlinewidth": 0,
              "ticks": ""
             }
            },
            "marker": {
             "colorbar": {
              "outlinewidth": 0,
              "ticks": ""
             }
            },
            "type": "scatter3d"
           }
          ],
          "scattercarpet": [
           {
            "marker": {
             "colorbar": {
              "outlinewidth": 0,
              "ticks": ""
             }
            },
            "type": "scattercarpet"
           }
          ],
          "scattergeo": [
           {
            "marker": {
             "colorbar": {
              "outlinewidth": 0,
              "ticks": ""
             }
            },
            "type": "scattergeo"
           }
          ],
          "scattergl": [
           {
            "marker": {
             "colorbar": {
              "outlinewidth": 0,
              "ticks": ""
             }
            },
            "type": "scattergl"
           }
          ],
          "scattermapbox": [
           {
            "marker": {
             "colorbar": {
              "outlinewidth": 0,
              "ticks": ""
             }
            },
            "type": "scattermapbox"
           }
          ],
          "scatterpolar": [
           {
            "marker": {
             "colorbar": {
              "outlinewidth": 0,
              "ticks": ""
             }
            },
            "type": "scatterpolar"
           }
          ],
          "scatterpolargl": [
           {
            "marker": {
             "colorbar": {
              "outlinewidth": 0,
              "ticks": ""
             }
            },
            "type": "scatterpolargl"
           }
          ],
          "scatterternary": [
           {
            "marker": {
             "colorbar": {
              "outlinewidth": 0,
              "ticks": ""
             }
            },
            "type": "scatterternary"
           }
          ],
          "surface": [
           {
            "colorbar": {
             "outlinewidth": 0,
             "ticks": ""
            },
            "colorscale": [
             [
              0,
              "#0d0887"
             ],
             [
              0.1111111111111111,
              "#46039f"
             ],
             [
              0.2222222222222222,
              "#7201a8"
             ],
             [
              0.3333333333333333,
              "#9c179e"
             ],
             [
              0.4444444444444444,
              "#bd3786"
             ],
             [
              0.5555555555555556,
              "#d8576b"
             ],
             [
              0.6666666666666666,
              "#ed7953"
             ],
             [
              0.7777777777777778,
              "#fb9f3a"
             ],
             [
              0.8888888888888888,
              "#fdca26"
             ],
             [
              1,
              "#f0f921"
             ]
            ],
            "type": "surface"
           }
          ],
          "table": [
           {
            "cells": {
             "fill": {
              "color": "#EBF0F8"
             },
             "line": {
              "color": "white"
             }
            },
            "header": {
             "fill": {
              "color": "#C8D4E3"
             },
             "line": {
              "color": "white"
             }
            },
            "type": "table"
           }
          ]
         },
         "layout": {
          "annotationdefaults": {
           "arrowcolor": "#2a3f5f",
           "arrowhead": 0,
           "arrowwidth": 1
          },
          "autotypenumbers": "strict",
          "coloraxis": {
           "colorbar": {
            "outlinewidth": 0,
            "ticks": ""
           }
          },
          "colorscale": {
           "diverging": [
            [
             0,
             "#8e0152"
            ],
            [
             0.1,
             "#c51b7d"
            ],
            [
             0.2,
             "#de77ae"
            ],
            [
             0.3,
             "#f1b6da"
            ],
            [
             0.4,
             "#fde0ef"
            ],
            [
             0.5,
             "#f7f7f7"
            ],
            [
             0.6,
             "#e6f5d0"
            ],
            [
             0.7,
             "#b8e186"
            ],
            [
             0.8,
             "#7fbc41"
            ],
            [
             0.9,
             "#4d9221"
            ],
            [
             1,
             "#276419"
            ]
           ],
           "sequential": [
            [
             0,
             "#0d0887"
            ],
            [
             0.1111111111111111,
             "#46039f"
            ],
            [
             0.2222222222222222,
             "#7201a8"
            ],
            [
             0.3333333333333333,
             "#9c179e"
            ],
            [
             0.4444444444444444,
             "#bd3786"
            ],
            [
             0.5555555555555556,
             "#d8576b"
            ],
            [
             0.6666666666666666,
             "#ed7953"
            ],
            [
             0.7777777777777778,
             "#fb9f3a"
            ],
            [
             0.8888888888888888,
             "#fdca26"
            ],
            [
             1,
             "#f0f921"
            ]
           ],
           "sequentialminus": [
            [
             0,
             "#0d0887"
            ],
            [
             0.1111111111111111,
             "#46039f"
            ],
            [
             0.2222222222222222,
             "#7201a8"
            ],
            [
             0.3333333333333333,
             "#9c179e"
            ],
            [
             0.4444444444444444,
             "#bd3786"
            ],
            [
             0.5555555555555556,
             "#d8576b"
            ],
            [
             0.6666666666666666,
             "#ed7953"
            ],
            [
             0.7777777777777778,
             "#fb9f3a"
            ],
            [
             0.8888888888888888,
             "#fdca26"
            ],
            [
             1,
             "#f0f921"
            ]
           ]
          },
          "colorway": [
           "#636efa",
           "#EF553B",
           "#00cc96",
           "#ab63fa",
           "#FFA15A",
           "#19d3f3",
           "#FF6692",
           "#B6E880",
           "#FF97FF",
           "#FECB52"
          ],
          "font": {
           "color": "#2a3f5f"
          },
          "geo": {
           "bgcolor": "white",
           "lakecolor": "white",
           "landcolor": "#E5ECF6",
           "showlakes": true,
           "showland": true,
           "subunitcolor": "white"
          },
          "hoverlabel": {
           "align": "left"
          },
          "hovermode": "closest",
          "mapbox": {
           "style": "light"
          },
          "paper_bgcolor": "white",
          "plot_bgcolor": "#E5ECF6",
          "polar": {
           "angularaxis": {
            "gridcolor": "white",
            "linecolor": "white",
            "ticks": ""
           },
           "bgcolor": "#E5ECF6",
           "radialaxis": {
            "gridcolor": "white",
            "linecolor": "white",
            "ticks": ""
           }
          },
          "scene": {
           "xaxis": {
            "backgroundcolor": "#E5ECF6",
            "gridcolor": "white",
            "gridwidth": 2,
            "linecolor": "white",
            "showbackground": true,
            "ticks": "",
            "zerolinecolor": "white"
           },
           "yaxis": {
            "backgroundcolor": "#E5ECF6",
            "gridcolor": "white",
            "gridwidth": 2,
            "linecolor": "white",
            "showbackground": true,
            "ticks": "",
            "zerolinecolor": "white"
           },
           "zaxis": {
            "backgroundcolor": "#E5ECF6",
            "gridcolor": "white",
            "gridwidth": 2,
            "linecolor": "white",
            "showbackground": true,
            "ticks": "",
            "zerolinecolor": "white"
           }
          },
          "shapedefaults": {
           "line": {
            "color": "#2a3f5f"
           }
          },
          "ternary": {
           "aaxis": {
            "gridcolor": "white",
            "linecolor": "white",
            "ticks": ""
           },
           "baxis": {
            "gridcolor": "white",
            "linecolor": "white",
            "ticks": ""
           },
           "bgcolor": "#E5ECF6",
           "caxis": {
            "gridcolor": "white",
            "linecolor": "white",
            "ticks": ""
           }
          },
          "title": {
           "x": 0.05
          },
          "xaxis": {
           "automargin": true,
           "gridcolor": "white",
           "linecolor": "white",
           "ticks": "",
           "title": {
            "standoff": 15
           },
           "zerolinecolor": "white",
           "zerolinewidth": 2
          },
          "yaxis": {
           "automargin": true,
           "gridcolor": "white",
           "linecolor": "white",
           "ticks": "",
           "title": {
            "standoff": 15
           },
           "zerolinecolor": "white",
           "zerolinewidth": 2
          }
         }
        },
        "title": {
         "text": "过去10年1月平均温度"
        }
       }
      }
     },
     "metadata": {},
     "output_type": "display_data"
    }
   ],
   "source": [
    "import pandas as pd\n",
    "import plotly.express as px\n",
    "import numpy as np\n",
    "\n",
    "\n",
    "def dms2dd(dms):\n",
    "    # 分离数值和方向\n",
    "    # Разделите ценности и направления\n",
    "    if isinstance(dms, str):\n",
    "        num, direction = float(dms[:-1]), dms[-1]\n",
    "        # 根据方向调整符号\n",
    "        # Настройте символы в соответствии с направлением\n",
    "        if direction in ['S', 'W']:\n",
    "            num *= -1\n",
    "        return num\n",
    "    else:\n",
    "        # 如果已经是数值类型，则直接返回\n",
    "        return dms\n",
    "\n",
    "# 创建 df_after_1950 的副本以避免 SettingWithCopyWarning\n",
    "# создайте копию df_after_1950, чтобы избежать предупреждения SettingWithCopyWarning\n",
    "df_after_1950 = df_after_1950.copy()\n",
    "\n",
    "# 应用转换函数到纬度和经度列\n",
    "# Примените функции преобразования к столбцам широты и долготы\n",
    "df_after_1950['Latitude'] = df_after_1950['Latitude'].apply(dms2dd)\n",
    "df_after_1950['Longitude'] = df_after_1950['Longitude'].apply(dms2dd)\n",
    "\n",
    "# 处理 NaN 值，仅对数值列计算平均值\n",
    "# обрабатываются значения NaN, средние значения рассчитываются только для числовых столбцов\n",
    "numeric_cols = df_after_1950.select_dtypes(include=[np.number]).columns\n",
    "df_after_1950[numeric_cols] = df_after_1950[numeric_cols].fillna(df_after_1950[numeric_cols].mean())\n",
    "\n",
    "# 计算过去10年每个城市1月的平均温度\n",
    "# Рассчитайте среднюю температуру января для каждого города за последние 10 лет\n",
    "current_year = df_after_1950['dt'].dt.year.max()\n",
    "jan_temps = df_after_1950[(df_after_1950['dt'].dt.month == 1) & (df_after_1950['dt'].dt.year > current_year - 10)]\n",
    "avg_jan_temps = jan_temps.groupby('City', as_index=False).agg({'AverageTemperature': 'mean', 'Latitude': 'first', 'Longitude': 'first'})\n",
    "\n",
    "# 使用 Plotly Express 在地图上显示城市\n",
    "# Используйте Plotly Express для отображения городов на карте\n",
    "fig = px.scatter_geo(avg_jan_temps,\n",
    "                     lat='Latitude',\n",
    "                     lon='Longitude',\n",
    "                     color='AverageTemperature',\n",
    "                     color_continuous_scale=px.colors.sequential.Plasma,\n",
    "                     range_color=[avg_jan_temps['AverageTemperature'].min(), avg_jan_temps['AverageTemperature'].max()],\n",
    "                     hover_name='City',\n",
    "                     projection=\"natural earth\",\n",
    "                     title='过去10年1月平均温度')\n",
    "fig.show()"
   ]
  },
  {
   "cell_type": "markdown",
   "metadata": {},
   "source": []
  }
 ],
 "metadata": {
  "kernelspec": {
   "display_name": "Python 3.10.6 64-bit",
   "language": "python",
   "name": "python3"
  },
  "language_info": {
   "codemirror_mode": {
    "name": "ipython",
    "version": 3
   },
   "file_extension": ".py",
   "mimetype": "text/x-python",
   "name": "python",
   "nbconvert_exporter": "python",
   "pygments_lexer": "ipython3",
   "version": "3.11.4"
  },
  "orig_nbformat": 4,
  "vscode": {
   "interpreter": {
    "hash": "916dbcbb3f70747c44a77c7bcd40155683ae19c65e1c03b4aa3499c5328201f1"
   }
  }
 },
 "nbformat": 4,
 "nbformat_minor": 2
}
