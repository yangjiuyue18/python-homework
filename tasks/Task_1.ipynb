{
 "cells": [
  {
   "cell_type": "markdown",
   "metadata": {},
   "source": [
    "# Задание 1\n",
    "\n",
    "(**NB.** для запуска примеров кода нужен Python версии не ниже **3.10**, допускается использование других версий, в этом случае нужно самостоятельно избавиться от конструкции `match`).\n",
    "\n",
    "Есть следующий код для [автоматического дифференцирования](https://en.wikipedia.org/wiki/Automatic_differentiation), в котором используются особенности системы типов языка `Python`: "
   ]
  },
  {
   "cell_type": "markdown",
   "metadata": {},
   "source": [
    "Поддерживаются две операции - сложение и умножение. Применить можно так:"
   ]
  },
  {
   "cell_type": "markdown",
   "metadata": {},
   "source": [
    "## Задание 1.1 (5 баллов)\n",
    "\n",
    "Какие недостатки вы видите в данной реализации? Реализуйте поддержку (полностью самостоятельно или модифицируя приведенный код):\n",
    "- [унарных операций](https://docs.python.org/3/reference/datamodel.html#object.__neg__) \n",
    "- деления\n",
    "- возведения в степень\n",
    "\n",
    "Каким образом можно проверить корректность решения?  Реализуйте достаточный, по вашему мнению, набор тестов."
   ]
  },
  {
   "cell_type": "code",
   "execution_count": 18,
   "metadata": {},
   "outputs": [
    {
     "name": "stdout",
     "output_type": "stream",
     "text": [
      "-18.0\n",
      "-8.0\n",
      "12.0\n",
      "22.0\n"
     ]
    }
   ],
   "source": [
    "from dataclasses import dataclass\n",
    "from numbers import Number\n",
    "import math\n",
    "from math import sin,cos,log,exp\n",
    "import random\n",
    "from typing import Union, Callable, List,Generator,Iterable\n",
    "\n",
    "\n",
    "@dataclass\n",
    "class Dual:\n",
    "    value: float\n",
    "    d: float\n",
    "\n",
    "    def __add__(self, other: Union[\"Dual\", Number]) -> \"Dual\":\n",
    "         match other:\n",
    "            case Dual(o_value, o_d):\n",
    "                return Dual(self.value + o_value, self.d + o_d)\n",
    "            case Number():\n",
    "                return Dual(float(other) + self.value, self.d)\n",
    "    \n",
    "    def __sub__(self, other: Union[\"Dual\", Number]) -> \"Dual\":\n",
    "         match other:\n",
    "            case Dual(o_value, o_d):\n",
    "                return Dual(self.value - o_value, self.d - o_d)\n",
    "            case Number():\n",
    "                return Dual(self.value - float(other), self.d)\n",
    "\n",
    "    def __mul__(self, other: Union[\"Dual\", Number]) -> \"Dual\":\n",
    "         match other:\n",
    "            case Dual(o_value, o_d):\n",
    "                return Dual(self.value * o_value, self.value * o_d + self.d * o_value)\n",
    "            case Number():\n",
    "                return Dual(float(other) * self.value, float(other) * self.d)\n",
    "\n",
    "    def __truediv__(self, other: Union[\"Dual\", Number]) -> \"Dual\":\n",
    "         match other:\n",
    "            case Dual(o_value, o_d):\n",
    "                return Dual(self.value / o_value, (self.d * o_value - self.value * o_d) / (o_value * o_value))\n",
    "            case Number():\n",
    "                return Dual(self.value / float(other), self.d / float(other))\n",
    "\n",
    "    def __pow__(self, exponent: Union[\"Dual\", Number]) -> \"Dual\":\n",
    "         match exponent:\n",
    "            case Dual(e_value, e_d):\n",
    "                new_value = self.value ** e_value\n",
    "                new_d = (self.d * e_value * self.value ** (e_value - 1)) + (e_d * new_value)\n",
    "                return Dual(new_value, new_d)\n",
    "            case Number():\n",
    "                new_value = self.value ** float(exponent)\n",
    "                new_d = self.d * float(exponent) * self.value ** (float(exponent) - 1)\n",
    "                return Dual(new_value, new_d)\n",
    "             \n",
    "    def __rsub__(self, other: Union[\"Dual\", Number]) -> \"Dual\":\n",
    "         match other:\n",
    "            case Dual(o_value, o_d):\n",
    "                return Dual(o_value - self.value, o_d - self.d)\n",
    "            case Number():\n",
    "                return Dual(float(other) - self.value, -self.d)\n",
    "             \n",
    "    def __float__(self):\n",
    "        return self.value\n",
    "\n",
    "    __rmul__ = __mul__\n",
    "    __radd__ = __add__\n",
    "\n",
    "def diff(func: Callable[[float], float], xs = Iterable[float]) -> Generator[float, None,None]:\n",
    "    for x in xs:\n",
    "        yield func(Dual(x, 1.0)).d\n",
    "\n",
    "# Функция, которую будем дифференцировать\n",
    "def f(x: float) -> float:\n",
    "    return 5 * x * x + 2 * x + 2\n",
    "\n",
    "# значение производной в точке x = 2\n",
    "xs =[-2,-1,1,2]\n",
    "for test in diff(f,xs):\n",
    "    print(test)"
   ]
  },
  {
   "cell_type": "markdown",
   "metadata": {},
   "source": [
    "## Задание 1.2 (7 баллов)\n",
    "Придумайте способ и реализуйте поддержку функций:\n",
    "- `exp()`\n",
    "- `cos()`\n",
    "- `sin()`\n",
    "- `log()`\n",
    "\n",
    "Добавьте соответствующие тесты"
   ]
  },
  {
   "cell_type": "code",
   "execution_count": 19,
   "metadata": {},
   "outputs": [
    {
     "name": "stdout",
     "output_type": "stream",
     "text": [
      "7.38905609893065\n",
      "exp(2) = 7.3890560989301735\n",
      "-0.4161468365471424\n",
      "cos(2) = -0.41614683654756973\n",
      "0.9092974268256817\n",
      "sin(2) = 0.909297426825641\n",
      "0.6931471805599453\n",
      "log(2) = 0.6926474305598223\n"
     ]
    }
   ],
   "source": [
    "# 实现自定义的exp函数\n",
    "# 计算每一项 x^i / i! 并将其添加到结果中，其中 i 逐渐增加。\n",
    "# Реализовать пользовательскую функцию exp\n",
    "# Вычислить каждый член x^i / i! и прибавить его к результату, где i увеличивается.\n",
    "def custom_exp(x):\n",
    "    result = 0\n",
    "    for i in range(20):  # 计算前20个项的级数展开\n",
    "        numerator = x ** i\n",
    "        denominator = math.factorial(i)\n",
    "        result += numerator / denominator\n",
    "    return result\n",
    "\n",
    "# 实现自定义的cos函数\n",
    "# 这里使用了前10项的泰勒级数[(-1)^i*x**(2i)]/2i!来计算 cos(x)。\n",
    "# 其中，sign 表示正负号，numerator 表示分子，denominator 表示分母。math.factorial(n) 函数表示计算 n 的阶乘。\n",
    "# Реализация пользовательской функции cos\n",
    "# Здесь для вычисления cos(x) используется ряд Тейлора [(-1)^i*x**(2i)]/2i! из первых 10 членов.\n",
    "# где sign обозначает знак плюс или минус, numerator - числитель, denominator - знаменатель. math.factorial(n) функция обозначает вычисление факториала числа n.\n",
    "def custom_cos(x):\n",
    "    result = 0.0\n",
    "    for i in range(10):\n",
    "        sign = (-1) ** i\n",
    "        numerator = x ** (2 * i)\n",
    "        denominator = math.factorial(2 * i)\n",
    "        result += sign * numerator / denominator\n",
    "    return result\n",
    "\n",
    "# 实现自定义的sin函数\n",
    "# 这里使用了前10项的泰勒级数[(-1)^i*x**(2i+1)]/(2i+1)!来计算 sin(x)。\n",
    "# 其中，sign 表示正负号，numerator 表示分子，denominator 表示分母。math.factorial(n) 函数表示计算 n 的阶乘。\n",
    "# Реализовать пользовательскую функцию sin\n",
    "def custom_sin(x):\n",
    "    result = 0.0\n",
    "    for i in range(10):\n",
    "        sign = (-1) ** i\n",
    "        numerator = x ** (2 * i + 1)\n",
    "        denominator = math.factorial(2 * i + 1)\n",
    "        result += sign * numerator / denominator\n",
    "    return result\n",
    "\n",
    "# 实现自定义的log函数（自然对数）\n",
    "# 使用交替的正负号，计算每一项 ((-1)^(i - 1)) * (x - 1)^i / i 并将其添加到结果中，其中 i 逐渐增加。\n",
    "# Реализовать пользовательскую функцию log (натуральный логарифм)\n",
    "# Используя чередование знаков плюс и минус, вычислить каждый член ((-1)^(i - 1)) * (x - 1)^i / i и прибавить его к результату, где i увеличивается.\n",
    "def custom_log(x):\n",
    "    result = 0\n",
    "    for i in range(1,1001):\n",
    "        sign = (-1) ** (i -1)\n",
    "        numerator = (x - 1) ** i\n",
    "        result += sign * numerator / i\n",
    "    return result\n",
    "\n",
    "# 使用示例：\n",
    "# Тесты\n",
    "x = 2\n",
    "print(exp(x))\n",
    "print(f\"exp({x}) = {custom_exp(x)}\")\n",
    "print(cos(x))\n",
    "print(f\"cos({x}) = {custom_cos(x)}\")\n",
    "print(sin(x))\n",
    "print(f\"sin({x}) = {custom_sin(x)}\")\n",
    "print(log(x))\n",
    "print(f\"log({x}) = {custom_log(x)}\")"
   ]
  },
  {
   "cell_type": "markdown",
   "metadata": {},
   "source": [
    "## Задание 1.3 (3 балла)\n",
    "\n",
    "Воспользуйтесь методами **численного** дифференцирования для \"проверки\" работы кода на нескольких примерах. Например,  библиотеке `scipy` есть функция `derivative`. Или реализуйте какой-нибудь метод численного дифференцирования самостоятельно (**+5 баллов**)"
   ]
  },
  {
   "cell_type": "code",
   "execution_count": 20,
   "metadata": {},
   "outputs": [
    {
     "name": "stdout",
     "output_type": "stream",
     "text": [
      "39.64495093899956\n",
      "-14.000000000069512\n",
      "-67.64495093847245\n"
     ]
    }
   ],
   "source": [
    "\n",
    "# f′(x)≈ f(x+ϵ)−f(x−ϵ)​/2ϵ\n",
    "\n",
    "def numerical_derivative(func: Callable[[float], float], xs: Iterable[float], epsilon: float = 1e-6) -> Generator[float,None,None]:\n",
    "\n",
    "    for x in xs:\n",
    "\n",
    "        f_x_plus_epsilon = func(x + epsilon)\n",
    "        f_x_minus_epsilon = func(x - epsilon)\n",
    "    \n",
    "        numerical_derivative = (f_x_plus_epsilon - f_x_minus_epsilon) / (2 * epsilon)\n",
    "    \n",
    "        yield numerical_derivative\n",
    "\n",
    "def func(x :float) -> float:\n",
    "    return x + 5*x - cos(20 * log(12- 20*x*x)) - 20*x\n",
    "\n",
    "# 运行测试用例\n",
    "# Тесты\n",
    "xs= [-0.5, 0, 0.5]\n",
    "for test in numerical_derivative(func,xs):\n",
    "    print(test)\n"
   ]
  },
  {
   "cell_type": "markdown",
   "metadata": {},
   "source": [
    "## Задание 1.4 (10 баллов)\n",
    "\n",
    "Необходимо разработать систему автоматического тестирования алгоритма дифференцирования в следующем виде:\n",
    "- реализовать механизм генерации \"случайных функций\" (например, что-то вроде такого: $f(x) = x + 5 * x - \\cos(20 * \\log(12 - 20 * x * x )) - 20 * x$ )\n",
    "- сгенерировать достаточно большое число функций и сравнить результаты символьного и численного дифференцирования в случайных точках "
   ]
  },
  {
   "cell_type": "code",
   "execution_count": 21,
   "metadata": {},
   "outputs": [
    {
     "name": "stdout",
     "output_type": "stream",
     "text": [
      "39.644950968544144\n",
      "0.7243135739942659\n",
      "-8.674625865643051\n",
      "-67.64495096854415\n"
     ]
    }
   ],
   "source": [
    "def cos(x: Union[Dual, Number]) -> Dual:\n",
    "    if isinstance(x, Dual):\n",
    "        return Dual(math.cos(x.value), -math.sin(x.value)*x.d)\n",
    "    else:\n",
    "        return Dual(math.cos(x), 0)\n",
    "\n",
    "def sin(x: Union[Dual, Number]) -> Dual:\n",
    "    if isinstance(x, Dual):\n",
    "        return Dual(math.sin(x.value), math.cos(x.value)*x.d)\n",
    "    else:\n",
    "        return Dual(math.sin(x), 0)\n",
    "\n",
    "def exp(x: Union[Dual, Number]) -> Dual:\n",
    "    if isinstance(x, Dual):\n",
    "        return Dual(math.exp(x.value), math.exp(x.value)*x.d)\n",
    "    else:\n",
    "        return Dual(math.exp(x), 0)\n",
    "\n",
    "def log(x: Union[Dual, Number]) -> Dual:\n",
    "    if isinstance(x, Dual):\n",
    "        return Dual(math.log(x.value), x.d/x.value)\n",
    "    else:\n",
    "        return Dual(math.log(x), 0)\n",
    "\n",
    "\n",
    "def f(x: float) -> float:\n",
    "    return x + 5*x - cos(20 * log(12 - 20*x*x)) - 20*x\n",
    "\n",
    "xs = [-0.5,-0.3,0.1,0.5]\n",
    "for result in diff(f,xs):\n",
    "    print(result)\n",
    "# Вывести производную f при x = -0.5 39.644950968544144\n",
    "# 输出f在x=-0.5处的导数  39.644950968544144\n"
   ]
  },
  {
   "cell_type": "code",
   "execution_count": 22,
   "metadata": {},
   "outputs": [
    {
     "name": "stdout",
     "output_type": "stream",
     "text": [
      "Когда x = 0.45, f(x) = lambda x: -2 * x*x + -3 * x*x*x + 4 + sin(-2*x*x) + cos(-3*x*x) + log(6*x*x+1) + exp(-2*x*x)\n",
      "символическая дифференциация: -5.580724014226629\n",
      "численное дифференцирование: -5.580724014464522\n",
      "Когда x = 0.01, f(x) = lambda x: 10 * x*x + -5 * x*x*x + -10 + sin(10*x*x) + cos(-5*x*x) + log(8*x*x+1) + exp(10*x*x)\n",
      "символическая дифференциация: 69.13015349874031\n",
      "численное дифференцирование: 69.13015349807594\n",
      "Когда x = 0.27, f(x) = lambda x: -7 * x*x + -6 * x*x*x + 3 + sin(-7*x*x) + cos(-6*x*x) + log(5*x*x+1) + exp(-7*x*x)\n",
      "символическая дифференциация: -15.259368710693883\n",
      "численное дифференцирование: -15.259368710385246\n",
      "Когда x = -0.42, f(x) = lambda x: -4 * x*x + -9 * x*x*x + 4 + sin(-4*x*x) + cos(-9*x*x) + log(5*x*x+1) + exp(-4*x*x)\n",
      "символическая дифференциация: -18.75992366660356\n",
      "численное дифференцирование: -18.75992366606738\n",
      "Когда x = 0.16, f(x) = lambda x: -3 * x*x + -1 * x*x*x + -6 + sin(-3*x*x) + cos(-1*x*x) + log(3*x*x+1) + exp(-3*x*x)\n",
      "символическая дифференциация: -5.496509373797404\n",
      "численное дифференцирование: -5.49650937387014\n",
      "Когда x = -0.39, f(x) = lambda x: -1 * x*x + -5 * x*x*x + -5 + sin(-1*x*x) + cos(-5*x*x) + log(6*x*x+1) + exp(-1*x*x)\n",
      "символическая дифференциация: -6.9329195609637875\n",
      "численное дифференцирование: -6.93291956088693\n",
      "Когда x = -0.34, f(x) = lambda x: -4 * x*x + 3 * x*x*x + 10 + sin(-4*x*x) + cos(3*x*x) + log(9*x*x+1) + exp(-4*x*x)\n",
      "символическая дифференциация: -4.53259180748248\n",
      "численное дифференцирование: -4.532591807659969\n",
      "Когда x = -0.33, f(x) = lambda x: -6 * x*x + 4 * x*x*x + -8 + sin(-6*x*x) + cos(4*x*x) + log(4*x*x+1) + exp(-6*x*x)\n",
      "символическая дифференциация: -7.071737039716435\n",
      "численное дифференцирование: -7.071737038621961\n",
      "Когда x = -0.41, f(x) = lambda x: -10 * x*x + 6 * x*x*x + -5 + sin(-10*x*x) + cos(6*x*x) + log(4*x*x+1) + exp(-10*x*x)\n",
      "символическая дифференциация: -5.667067264057869\n",
      "численное дифференцирование: -5.667067263459558\n",
      "Когда x = -0.38, f(x) = lambda x: 7 * x*x + -2 * x*x*x + -6 + sin(7*x*x) + cos(-2*x*x) + log(2*x*x+1) + exp(7*x*x)\n",
      "символическая дифференциация: 32.6176742816705\n",
      "численное дифференцирование: 32.61767428086593\n"
     ]
    }
   ],
   "source": [
    "# 创建一个空列表来存储生成的函数\n",
    "# Создать пустой список для хранения сгенерированных функций\n",
    "func_s = []\n",
    "strs = []\n",
    "xs = []\n",
    "\n",
    "# 生成 10 个随机函数\n",
    "# Генерируем 10 случайных функций\n",
    "for _ in range(10):\n",
    "    # 生成随机系数\n",
    "    # Генерировать случайные коэффициенты\n",
    "    a = random.randint(-10, 10)\n",
    "    b = random.randint(-10, 10)\n",
    "    c = random.randint(-10, 10)\n",
    "    d = random.randint(1, 10)\n",
    "    x = round(random.uniform(-0.5, 0.5),2)\n",
    "\n",
    "    # 创建函数字符串\n",
    "    # Создание строк функций\n",
    "    func_str = f\"lambda x: {a} * x*x + {b} * x*x*x + {c} + sin({a}*x*x) + cos({b}*x*x) + log({d}*x*x+1) + exp({a}*x*x)\"\n",
    "\n",
    "    # 使用 eval 将字符串转换为函数\n",
    "    # Используйте eval для преобразования строк в функции\n",
    "    func = eval(func_str)\n",
    "\n",
    "    # 将生成的函数添加到列表中\n",
    "    # Добавить сгенерированную функцию в список\n",
    "    func_s.append(func)\n",
    "    strs.append(func_str)\n",
    "    xs.append(x)\n",
    "\n",
    "# 测试函数\n",
    "for i in range(len(func_s)):\n",
    "\n",
    "    #生成随机x\n",
    "    # x = round(random.uniform(-0.5, 0.5),2)\n",
    "    print(f\"Когда x = {xs[i]}, f(x) = {strs[i]}\")\n",
    "\n",
    "    #符号求导 символическая дифференциация\n",
    "    dfs = diff(func_s[i],xs)\n",
    "    print(\"символическая дифференциация:\",next(dfs))\n",
    "\n",
    "    #数值求导 численное дифференцирование\n",
    "    res = numerical_derivative(func_s[i], xs)   \n",
    "    print(\"численное дифференцирование:\",next(res).value)"
   ]
  },
  {
   "cell_type": "markdown",
   "metadata": {},
   "source": [
    "## Задание 1.5 (7 баллов)\n",
    "\n",
    "Реализуйте поддержку функций нескольких аргументов. Например\n",
    "\n",
    "```python\n",
    "def f(x: float, y: float, z: float) -> float:\n",
    "    return x * y + z - 5 * y  \n",
    "\n",
    "\n",
    "f_diff = diff(f)\n",
    "\n",
    "f_diff(10, 10, 10) # = [10, 5, 1]\n",
    "```"
   ]
  },
  {
   "cell_type": "code",
   "execution_count": 23,
   "metadata": {},
   "outputs": [
    {
     "name": "stdout",
     "output_type": "stream",
     "text": [
      "10.0\n",
      "5.0\n",
      "1.0\n"
     ]
    }
   ],
   "source": [
    "\n",
    "def diffs(func: Callable[..., Dual]) -> Callable[..., List[float]]:\n",
    "    def wrapper(*args, **kwargs):\n",
    "\n",
    "        for i in range(len(args)):\n",
    "\n",
    "            dual_args = [Dual(arg, 1 if j == i else 0) for j, arg in enumerate(args)]\n",
    "            yield func(*dual_args, **kwargs).d\n",
    "\n",
    "    return wrapper\n",
    "\n",
    "def f(x: float, y: float, z: float) -> float:\n",
    "    return x * y + z - 5 * y\n",
    "\n",
    "f_diffs = diffs(f)\n",
    "\n",
    "# 计算在参数 x = 10, y = 10, z = 10 处关于 x、y 和 z 的导数值\n",
    "# Вычислить производные от x, y и z при x = 10, y = 10, z = 10\n",
    "for result in f_diffs(10,10,10):\n",
    "    print(result)\n",
    "# 输出结果应为 [10.0, 5.0, 1.0]\n",
    "# На выходе должно получиться [10.0, 5.0, 1.0]."
   ]
  }
 ],
 "metadata": {
  "kernelspec": {
   "display_name": "Python 3.10.4 64-bit",
   "language": "python",
   "name": "python3"
  },
  "language_info": {
   "codemirror_mode": {
    "name": "ipython",
    "version": 3
   },
   "file_extension": ".py",
   "mimetype": "text/x-python",
   "name": "python",
   "nbconvert_exporter": "python",
   "pygments_lexer": "ipython3",
   "version": "3.11.4"
  },
  "orig_nbformat": 4,
  "vscode": {
   "interpreter": {
    "hash": "916dbcbb3f70747c44a77c7bcd40155683ae19c65e1c03b4aa3499c5328201f1"
   }
  }
 },
 "nbformat": 4,
 "nbformat_minor": 2
}
